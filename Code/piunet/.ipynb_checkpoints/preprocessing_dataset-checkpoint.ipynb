{
 "cells": [
  {
   "cell_type": "markdown",
   "metadata": {},
   "source": [
    "# Preprocessing the Proba-V Dataset\n",
    "\n",
    "The following notebook is based on the RAMS preprocessing notebook (https://github.com/EscVM/RAMS).\n",
    "\n",
    "The following notebook provides a very flexible pipeline for processing the Proba-V Dataset. We have already split the original dataset in train validation and test. The test set is the original one of the ESA Proba-V challenge without ground-truths. The validation set is composed of all the scenes we used to evaluate our network and all significant solutions presented in literature at the time of writing.\n",
    "\n",
    "**NB**: with the setting \"train_full=True\" our validation split will be ignored, and you will have a pre-processed dataset with all scenes available in the dataset. It is useful if you want to compete in the [PROBA-V Super Resolution post mortem Challenge](https://kelvins.esa.int/proba-v-super-resolution-post-mortem/home/)\n",
    "\n",
    "**The notebook is divided in**:\n",
    "- 1.0 [Dataset Loading](#section_ID)\n",
    "- 2.0 [Dataset pre-processing](#preprocessing)\n",
    "    - 2.1 Register dataset\n",
    "    - 2.2 Select the best T LR images\n",
    "- 3.0 [Visualize the Pre-Processed Datataset](#visualize)\n",
    "- 4.0 [Save dataset](#save)"
   ]
  },
  {
   "cell_type": "code",
   "execution_count": null,
   "metadata": {
    "ExecuteTime": {
     "end_time": "2020-10-01T16:12:41.821468Z",
     "start_time": "2020-10-01T16:12:41.635000Z"
    }
   },
   "outputs": [],
   "source": [
    "%matplotlib inline\n",
    "%reload_ext autoreload\n",
    "%autoreload 2"
   ]
  },
  {
   "cell_type": "code",
   "execution_count": null,
   "metadata": {
    "ExecuteTime": {
     "end_time": "2020-10-01T16:12:41.994463Z",
     "start_time": "2020-10-01T16:12:41.822701Z"
    }
   },
   "outputs": [],
   "source": [
    "# import utils and basic libraries\n",
    "from utils import load_dataset,select_T_images,register_dataset\n",
    "import numpy as np\n",
    "import os\n",
    "import matplotlib.pyplot as plt"
   ]
  },
  {
   "cell_type": "code",
   "execution_count": null,
   "metadata": {
    "ExecuteTime": {
     "end_time": "2020-10-01T16:12:42.003213Z",
     "start_time": "2020-10-01T16:12:41.995586Z"
    }
   },
   "outputs": [],
   "source": [
    "#-------------\n",
    "# Settings\n",
    "#-------------\n",
    "T = 9                                # number of temporal dimension\n",
    "dataset_dir = '../../Dataset/probav_data/'  # input dir (train val and test split)\n",
    "dataset_output_dir = '../../Dataset/'       # output dir\n",
    "threshold_clean = 0.85               # percentage of clear pixel\n",
    "train_full = False                   # train without a validation"
   ]
  },
  {
   "cell_type": "markdown",
   "metadata": {},
   "source": [
    "<a id=\"loading\"></a>\n",
    "# 1.0 Dataset Loading"
   ]
  },
  {
   "cell_type": "code",
   "execution_count": null,
   "metadata": {
    "ExecuteTime": {
     "end_time": "2020-10-01T16:12:49.002476Z",
     "start_time": "2020-10-01T16:12:42.004060Z"
    }
   },
   "outputs": [],
   "source": [
    "# train loading\n",
    "X_RED_train, X_RED_train_masks, y_RED_train, y_RED_train_masks = load_dataset(base_dir=dataset_dir, \n",
    "                                                                              part=\"train\", band=\"RED\")\n",
    "X_NIR_train, X_NIR_train_masks, y_NIR_train, y_NIR_train_masks = load_dataset(base_dir=dataset_dir,\n",
    "                                                                              part=\"train\", band=\"NIR\")\n",
    "\n",
    "print(f\"Train RED scenes: {len(X_RED_train)} | Train RED y shape: {y_RED_train.shape}\")\n",
    "print(f\"Train NIR scenes: {len(X_NIR_train)} | Train NIR y shape: {y_NIR_train.shape}\")"
   ]
  },
  {
   "cell_type": "code",
   "execution_count": null,
   "metadata": {
    "ExecuteTime": {
     "end_time": "2020-10-01T16:12:51.960208Z",
     "start_time": "2020-10-01T16:12:49.003244Z"
    }
   },
   "outputs": [],
   "source": [
    "# validation loading\n",
    "X_RED_val, X_RED_val_masks, y_RED_val, y_RED_val_masks = load_dataset(base_dir=dataset_dir,\n",
    "                                                                      part=\"val\", band=\"RED\")\n",
    "X_NIR_val, X_NIR_val_masks, y_NIR_val, y_NIR_val_masks = load_dataset(base_dir=dataset_dir,\n",
    "                                                                      part=\"val\", band=\"NIR\")\n",
    "\n",
    "print(f\"Val RED scenes: {len(X_RED_val)} | Val RED y shape: {y_RED_val.shape}\")\n",
    "print(f\"Val NIR scenes: {len(X_NIR_val)} | Val NIR y shape: {y_NIR_val.shape}\")"
   ]
  },
  {
   "cell_type": "code",
   "execution_count": null,
   "metadata": {
    "ExecuteTime": {
     "end_time": "2020-10-01T16:12:53.861099Z",
     "start_time": "2020-10-01T16:12:51.961150Z"
    }
   },
   "outputs": [],
   "source": [
    "# test loading\n",
    "X_RED_test, X_RED_test_masks = load_dataset(base_dir=dataset_dir,part=\"test\",band=\"RED\")\n",
    "X_NIR_test, X_NIR_test_masks = load_dataset(base_dir=dataset_dir,part=\"test\",band=\"NIR\")\n",
    "\n",
    "print(f\"Test RED scenes: {len(X_RED_test)}\")\n",
    "print(f\"Test NIR scenes: {len(X_NIR_test)}\")"
   ]
  },
  {
   "cell_type": "markdown",
   "metadata": {},
   "source": [
    "<a id=\"preprocessing\"></a>\n",
    "# 2.0 Dataset Pre-Processing"
   ]
  },
  {
   "cell_type": "markdown",
   "metadata": {},
   "source": [
    "## 2.1 Register dataset"
   ]
  },
  {
   "cell_type": "code",
   "execution_count": null,
   "metadata": {
    "ExecuteTime": {
     "end_time": "2020-10-01T16:17:33.286005Z",
     "start_time": "2020-10-01T16:12:53.861982Z"
    },
    "scrolled": true
   },
   "outputs": [],
   "source": [
    "# train registration\n",
    "X_RED_train, X_RED_train_masks = register_dataset(X_RED_train, X_RED_train_masks)\n",
    "X_NIR_train, X_NIR_train_masks = register_dataset(X_NIR_train, X_NIR_train_masks)"
   ]
  },
  {
   "cell_type": "code",
   "execution_count": null,
   "metadata": {
    "ExecuteTime": {
     "end_time": "2020-10-01T16:19:30.119116Z",
     "start_time": "2020-10-01T16:17:33.287328Z"
    }
   },
   "outputs": [],
   "source": [
    "# validation registration\n",
    "X_RED_val, X_RED_val_masks = register_dataset(X_RED_val, X_RED_val_masks)\n",
    "X_NIR_val, X_NIR_val_masks = register_dataset(X_NIR_val, X_NIR_val_masks)"
   ]
  },
  {
   "cell_type": "code",
   "execution_count": null,
   "metadata": {
    "ExecuteTime": {
     "end_time": "2020-10-01T16:21:07.490103Z",
     "start_time": "2020-10-01T16:19:30.120232Z"
    }
   },
   "outputs": [],
   "source": [
    "# test registration\n",
    "X_RED_test, X_RED_test_masks = register_dataset(X_RED_test, X_RED_test_masks)\n",
    "X_NIR_test, X_NIR_test_masks = register_dataset(X_NIR_test, X_NIR_test_masks)"
   ]
  },
  {
   "cell_type": "markdown",
   "metadata": {},
   "source": [
    "## 2.2 Select the best T LR images"
   ]
  },
  {
   "cell_type": "code",
   "execution_count": null,
   "metadata": {
    "ExecuteTime": {
     "end_time": "2020-10-01T16:21:08.620834Z",
     "start_time": "2020-10-01T16:21:07.491008Z"
    }
   },
   "outputs": [],
   "source": [
    "# select T train\n",
    "X_RED_train, remove_indexes_RED_train = select_T_images(X_RED_train, X_RED_train_masks,\n",
    "                                                                     T, thr=threshold_clean)\n",
    "X_NIR_train, remove_indexes_NIR_train = select_T_images(X_NIR_train, X_NIR_train_masks, \n",
    "                                                                     T, thr=threshold_clean)\n",
    "\n",
    "print(f\"Train RED shape: {X_RED_train.shape}\")\n",
    "print(f\"Train NIR shape: {X_NIR_train.shape}\")\n",
    "print(f\"Train indexes removed RED: {remove_indexes_RED_train}\")\n",
    "print(f\"Train indexes removed NIR: {remove_indexes_NIR_train}\")"
   ]
  },
  {
   "cell_type": "code",
   "execution_count": null,
   "metadata": {
    "ExecuteTime": {
     "end_time": "2020-10-01T16:21:08.673228Z",
     "start_time": "2020-10-01T16:21:08.621693Z"
    }
   },
   "outputs": [],
   "source": [
    "# delete awful scenes training\n",
    "y_RED_train = np.delete(y_RED_train, remove_indexes_RED_train, axis=0)\n",
    "y_RED_train_masks = np.delete(y_RED_train_masks, remove_indexes_RED_train, axis=0)\n",
    "y_NIR_train = np.delete(y_NIR_train, remove_indexes_NIR_train, axis=0)\n",
    "y_NIR_train_masks = np.delete(y_NIR_train_masks, remove_indexes_NIR_train, axis=0)\n",
    "\n",
    "print(f\"Train RED y shape: {y_RED_train.shape}\")\n",
    "print(f\"Train NIR y shape: {y_NIR_train.shape}\")"
   ]
  },
  {
   "cell_type": "code",
   "execution_count": null,
   "metadata": {
    "ExecuteTime": {
     "end_time": "2020-10-01T16:21:09.107280Z",
     "start_time": "2020-10-01T16:21:08.674150Z"
    }
   },
   "outputs": [],
   "source": [
    "# select T validation\n",
    "X_RED_val, remove_indexes_RED_val = select_T_images(X_RED_val, X_RED_val_masks, \n",
    "                                                                 T, thr=threshold_clean)\n",
    "X_NIR_val, remove_indexes_NIR_val = select_T_images(X_NIR_val, X_NIR_val_masks,\n",
    "                                                                 T, thr=threshold_clean)\n",
    "\n",
    "print(f\"Val RED shape: {X_RED_train.shape}\")\n",
    "print(f\"Val NIR shape: {X_NIR_train.shape}\")\n",
    "print(f\"Val indexes removed RED: {remove_indexes_RED_val}\")\n",
    "print(f\"Val indexes removed NIR: {remove_indexes_NIR_val}\")"
   ]
  },
  {
   "cell_type": "code",
   "execution_count": null,
   "metadata": {
    "ExecuteTime": {
     "end_time": "2020-10-01T16:21:09.129902Z",
     "start_time": "2020-10-01T16:21:09.108135Z"
    }
   },
   "outputs": [],
   "source": [
    "# delete awful scenes validation\n",
    "y_RED_val = np.delete(y_RED_val, remove_indexes_RED_val, axis=0)\n",
    "y_RED_val_masks = np.delete(y_RED_val_masks, remove_indexes_RED_val, axis=0)\n",
    "y_NIR_val = np.delete(y_NIR_val, remove_indexes_NIR_val, axis=0)\n",
    "y_NIR_val_masks = np.delete(y_NIR_val_masks, remove_indexes_NIR_val, axis=0)\n",
    "\n",
    "print(f\"Val RED y shape: {y_RED_val.shape}\")\n",
    "print(f\"Val NIR y shape: {y_NIR_val.shape}\")"
   ]
  },
  {
   "cell_type": "code",
   "execution_count": null,
   "metadata": {
    "ExecuteTime": {
     "end_time": "2020-10-01T16:21:09.491497Z",
     "start_time": "2020-10-01T16:21:09.130802Z"
    }
   },
   "outputs": [],
   "source": [
    "# select T test\n",
    "X_RED_test, _ = select_T_images(X_RED_test, X_RED_test_masks,\n",
    "                                                  T, thr=threshold_clean, remove_bad=False) # we can't remove scenes from testing dataset\n",
    "X_NIR_test, _ = select_T_images(X_NIR_test, X_NIR_test_masks,\n",
    "                                                  T, thr=threshold_clean, remove_bad=False) # we can only pick the best T\n",
    "print(f\"Test RED shape: {X_RED_test.shape}\")\n",
    "print(f\"Test NIR shape: {X_NIR_test.shape}\")"
   ]
  },
  {
   "cell_type": "code",
   "execution_count": null,
   "metadata": {
    "ExecuteTime": {
     "end_time": "2020-10-01T16:21:09.500274Z",
     "start_time": "2020-10-01T16:21:09.492307Z"
    }
   },
   "outputs": [],
   "source": [
    "if train_full:\n",
    "    X_RED_train = np.concatenate((X_RED_train, X_RED_val))\n",
    "    X_NIR_train = np.concatenate((X_NIR_train, X_NIR_val))\n",
    "    \n",
    "    y_RED_train = np.concatenate((y_RED_train, y_RED_val))\n",
    "    y_NIR_train = np.concatenate((y_NIR_train, y_NIR_val))\n",
    "    \n",
    "    y_RED_train_masks = np.concatenate((y_RED_train_masks, y_RED_val_masks))\n",
    "    y_NIR_train_masks = np.concatenate((y_NIR_train_masks, y_NIR_val_masks))\n",
    "    \n",
    "print(f\"Train RED X shape: {X_RED_train.shape} | Train RED y shape: {y_RED_train.shape}\")\n",
    "print(f\"Train NIR X shape: {X_NIR_train.shape} | Train NIR y shape: {y_NIR_train.shape}\")"
   ]
  },
  {
   "cell_type": "markdown",
   "metadata": {},
   "source": [
    "<a id=\"visualize\"></a>\n",
    "# 3.0 Visualize the Pre-Processed Datataset"
   ]
  },
  {
   "cell_type": "code",
   "execution_count": null,
   "metadata": {
    "ExecuteTime": {
     "end_time": "2020-10-01T16:21:13.294008Z",
     "start_time": "2020-10-01T16:21:13.286858Z"
    }
   },
   "outputs": [],
   "source": [
    "#-------------\n",
    "# Settings\n",
    "#-------------\n",
    "index = 30\n",
    "band = 'NIR'"
   ]
  },
  {
   "cell_type": "code",
   "execution_count": null,
   "metadata": {
    "ExecuteTime": {
     "end_time": "2020-10-01T16:21:13.741233Z",
     "start_time": "2020-10-01T16:21:13.294890Z"
    }
   },
   "outputs": [],
   "source": [
    "fig, ax = plt.subplots(2, T, figsize=(20,5))\n",
    "\n",
    "if band == \"NIR\":\n",
    "    for i in range(T):\n",
    "        ax[0,i].imshow(X_NIR_train[index][...,i], cmap = 'gray')\n",
    "        ax[0,i].axis('off')\n",
    "        ax[1,i].imshow(X_NIR_train_masks[index][...,i], cmap = 'gray')\n",
    "        ax[1,i].axis('off')\n",
    "else:\n",
    "    for i in range(T):\n",
    "        ax[0,i].imshow(X_RED_train[index][...,i], cmap = 'gray')\n",
    "        ax[0,i].axis('off')\n",
    "        ax[1,i].imshow(X_RED_train_masks[index][...,i], cmap = 'gray')\n",
    "        ax[1,i].axis('off')"
   ]
  },
  {
   "cell_type": "markdown",
   "metadata": {},
   "source": [
    "<a id=\"save\"></a>\n",
    "# 4.0 Save dataset"
   ]
  },
  {
   "cell_type": "code",
   "execution_count": null,
   "metadata": {
    "ExecuteTime": {
     "end_time": "2020-10-01T16:31:11.107260Z",
     "start_time": "2020-10-01T16:31:11.092658Z"
    }
   },
   "outputs": [],
   "source": [
    "if not os.path.isdir(dataset_output_dir):\n",
    "    os.mkdir(dataset_output_dir)"
   ]
  },
  {
   "cell_type": "code",
   "execution_count": null,
   "metadata": {
    "ExecuteTime": {
     "end_time": "2020-10-01T16:31:33.137574Z",
     "start_time": "2020-10-01T16:31:12.508857Z"
    }
   },
   "outputs": [],
   "source": [
    "# save training\n",
    "np.save(os.path.join(dataset_output_dir, 'X_RED_train.npy'), X_RED_train)\n",
    "np.save(os.path.join(dataset_output_dir, 'X_NIR_train.npy'), X_NIR_train)\n",
    "\n",
    "np.save(os.path.join(dataset_output_dir, 'y_RED_train.npy'), y_RED_train)\n",
    "np.save(os.path.join(dataset_output_dir, 'y_NIR_train.npy'), y_NIR_train)\n",
    "\n",
    "np.save(os.path.join(dataset_output_dir, 'y_RED_train_masks.npy'), y_RED_train_masks)\n",
    "np.save(os.path.join(dataset_output_dir, 'y_NIR_train_masks.npy'), y_NIR_train_masks)"
   ]
  },
  {
   "cell_type": "code",
   "execution_count": null,
   "metadata": {
    "ExecuteTime": {
     "end_time": "2020-10-01T16:31:34.766852Z",
     "start_time": "2020-10-01T16:31:34.528430Z"
    }
   },
   "outputs": [],
   "source": [
    "# save validation\n",
    "if not train_full:\n",
    "    np.save(os.path.join(dataset_output_dir, 'X_RED_val.npy'), X_RED_val)\n",
    "    np.save(os.path.join(dataset_output_dir, 'X_NIR_val.npy'), X_NIR_val)\n",
    "\n",
    "    np.save(os.path.join(dataset_output_dir, 'y_RED_val.npy'), y_RED_val)\n",
    "    np.save(os.path.join(dataset_output_dir, 'y_NIR_val.npy'), y_NIR_val)\n",
    "\n",
    "    np.save(os.path.join(dataset_output_dir, 'y_RED_val_masks.npy'), y_RED_val_masks)\n",
    "    np.save(os.path.join(dataset_output_dir, 'y_NIR_val_masks.npy'), y_NIR_val_masks)"
   ]
  },
  {
   "cell_type": "code",
   "execution_count": null,
   "metadata": {
    "ExecuteTime": {
     "end_time": "2020-10-01T16:31:36.249034Z",
     "start_time": "2020-10-01T16:31:36.167724Z"
    }
   },
   "outputs": [],
   "source": [
    "# save test\n",
    "np.save(os.path.join(dataset_output_dir, 'X_RED_test.npy'), X_RED_test)\n",
    "np.save(os.path.join(dataset_output_dir, 'X_NIR_test.npy'), X_NIR_test)"
   ]
  },
  {
   "cell_type": "code",
   "execution_count": null,
   "metadata": {},
   "outputs": [],
   "source": []
  }
 ],
 "metadata": {
  "kernelspec": {
   "display_name": "piunet-env",
   "language": "python",
   "name": "piunet-env"
  },
  "language_info": {
   "codemirror_mode": {
    "name": "ipython",
    "version": 3
   },
   "file_extension": ".py",
   "mimetype": "text/x-python",
   "name": "python",
   "nbconvert_exporter": "python",
   "pygments_lexer": "ipython3",
   "version": "3.7.6"
  },
  "toc": {
   "base_numbering": 1,
   "nav_menu": {},
   "number_sections": false,
   "sideBar": true,
   "skip_h1_title": false,
   "title_cell": "Table of Contents",
   "title_sidebar": "Contents",
   "toc_cell": false,
   "toc_position": {},
   "toc_section_display": true,
   "toc_window_display": true
  },
  "varInspector": {
   "cols": {
    "lenName": 16,
    "lenType": 16,
    "lenVar": 40
   },
   "kernels_config": {
    "python": {
     "delete_cmd_postfix": "",
     "delete_cmd_prefix": "del ",
     "library": "var_list.py",
     "varRefreshCmd": "print(var_dic_list())"
    },
    "r": {
     "delete_cmd_postfix": ") ",
     "delete_cmd_prefix": "rm(",
     "library": "var_list.r",
     "varRefreshCmd": "cat(var_dic_list()) "
    }
   },
   "types_to_exclude": [
    "module",
    "function",
    "builtin_function_or_method",
    "instance",
    "_Feature"
   ],
   "window_display": false
  }
 },
 "nbformat": 4,
 "nbformat_minor": 2
}
