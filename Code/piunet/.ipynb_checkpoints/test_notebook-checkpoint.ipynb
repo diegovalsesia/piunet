{
 "cells": [
  {
   "cell_type": "markdown",
   "metadata": {},
   "source": [
    "# Test"
   ]
  },
  {
   "cell_type": "markdown",
   "metadata": {},
   "source": [
    "This notebook imports the trained model and runs it on the Proba-V test set, as preprocessed by the preprocessing notebook."
   ]
  },
  {
   "cell_type": "code",
   "execution_count": null,
   "metadata": {
    "ExecuteTime": {
     "end_time": "2020-10-01T16:31:48.339498Z",
     "start_time": "2020-10-01T16:31:48.132829Z"
    }
   },
   "outputs": [],
   "source": [
    "%matplotlib inline\n",
    "%reload_ext autoreload\n",
    "%autoreload 2"
   ]
  },
  {
   "cell_type": "code",
   "execution_count": null,
   "metadata": {
    "ExecuteTime": {
     "end_time": "2020-10-01T16:31:49.428001Z",
     "start_time": "2020-10-01T16:31:48.340430Z"
    }
   },
   "outputs": [],
   "source": [
    "# import utils and basic libraries\n",
    "import os\n",
    "from tqdm import tqdm\n",
    "import matplotlib.pyplot as plt\n",
    "import numpy as np\n",
    "from utils import gen_sub, bicubic\n",
    "from losses import cpsnr, cssim\n",
    "from skimage import io\n",
    "from zipfile import ZipFile\n",
    "import torch"
   ]
  },
  {
   "cell_type": "markdown",
   "metadata": {},
   "source": [
    "<a id=\"loading\"></a>\n",
    "# 1.0 Dataset Loading"
   ]
  },
  {
   "cell_type": "code",
   "execution_count": null,
   "metadata": {},
   "outputs": [],
   "source": [
    "PATH_DATASET = '/media/HDD/valsesia/piunet_repo/Dataset/'\n",
    "band = 'RED'\n",
    "mu = 7433.6436\n",
    "sigma = 2353.0723\n",
    "Nimages=9"
   ]
  },
  {
   "cell_type": "code",
   "execution_count": null,
   "metadata": {
    "ExecuteTime": {
     "end_time": "2020-10-01T16:38:39.753944Z",
     "start_time": "2020-10-01T16:38:39.691011Z"
    }
   },
   "outputs": [],
   "source": [
    "# load ESA test set (no ground truth)\n",
    "X_test = np.load(os.path.join(PATH_DATASET, f'X_{band}_test.npy'))"
   ]
  },
  {
   "cell_type": "code",
   "execution_count": null,
   "metadata": {
    "ExecuteTime": {
     "end_time": "2020-10-01T16:38:41.923713Z",
     "start_time": "2020-10-01T16:38:41.898820Z"
    }
   },
   "outputs": [],
   "source": [
    "# print loaded dataset info\n",
    "print('X_test: ', X_test.shape)"
   ]
  },
  {
   "cell_type": "markdown",
   "metadata": {},
   "source": [
    "<a id=\"network\"></a>\n",
    "# 2.0 Load the trained network"
   ]
  },
  {
   "cell_type": "code",
   "execution_count": null,
   "metadata": {
    "ExecuteTime": {
     "end_time": "2020-10-01T16:35:43.541916Z",
     "start_time": "2020-10-01T16:35:43.427670Z"
    }
   },
   "outputs": [],
   "source": [
    "from config import Config\n",
    "from model import PIUNET\n",
    "\n",
    "MODEL_FILE = '/media/HDD/valsesia/piunet_repo/Results/piunet/red_model_checkpoint.pt'\n",
    "\n",
    "config = Config()\n",
    "\n",
    "model = PIUNET(config)\n",
    "model.cuda()\n",
    "\n",
    "model.load_state_dict(torch.load(MODEL_FILE))"
   ]
  },
  {
   "cell_type": "markdown",
   "metadata": {},
   "source": [
    "<a id=\"proba\"></a>\n",
    "# 3.0 Predict Proba-V Test Set"
   ]
  },
  {
   "cell_type": "code",
   "execution_count": null,
   "metadata": {
    "ExecuteTime": {
     "end_time": "2020-10-01T16:36:04.975830Z",
     "start_time": "2020-10-01T16:36:04.952158Z"
    }
   },
   "outputs": [],
   "source": [
    "# create output directory\n",
    "SUBMISSION_DIR='/media/HDD/valsesia/piunet_repo/Results/piunet/'\n",
    "if not os.path.exists(SUBMISSION_DIR):\n",
    "    os.mkdir(SUBMISSION_DIR)"
   ]
  },
  {
   "cell_type": "markdown",
   "metadata": {},
   "source": [
    "## 3.1 Prediction functions"
   ]
  },
  {
   "cell_type": "code",
   "execution_count": null,
   "metadata": {
    "ExecuteTime": {
     "end_time": "2020-10-01T16:38:58.851952Z",
     "start_time": "2020-10-01T16:38:56.061194Z"
    }
   },
   "outputs": [],
   "source": [
    "# vanilla\n",
    "def predict_image(x_lr, dataset_mu, dataset_sigma, to_numpy=False):\n",
    "    with torch.no_grad():\n",
    "        model.eval()\n",
    "        x_lr = torch.Tensor(np.transpose(x_lr,(0,3,1,2)).astype(np.float32)).to(\"cuda\")\n",
    "        x_sr, sigma_sr = model((x_lr-dataset_mu)/dataset_sigma)\n",
    "        x_sr = x_sr*dataset_sigma + dataset_mu\n",
    "        sigma_sr = torch.exp(sigma_sr + torch.log(torch.Tensor((dataset_sigma,)).to(\"cuda\")))\n",
    "    if to_numpy:\n",
    "        return x_sr.permute(0,2,3,1).detach().cpu().numpy(), sigma_sr.permute(0,2,3,1).detach().cpu().numpy()\n",
    "    else:\n",
    "        return x_sr, sigma_sr\n",
    "\n",
    "\n",
    "# rotational self-ensemble\n",
    "def predict_image_se(x_lr, dataset_mu, dataset_sigma, to_numpy=True):\n",
    "    with torch.no_grad():\n",
    "        model.eval()\n",
    "        for r in [0,1,2,3]:\n",
    "            xr_lr = np.rot90(x_lr, k=r, axes=(1,2))\n",
    "            xr_lr = torch.Tensor(np.transpose(xr_lr,(0,3,1,2)).astype(np.float32)).to(\"cuda\")\n",
    "            x_sr, sigma_sr = model((xr_lr-dataset_mu)/dataset_sigma)\n",
    "            x_sr = x_sr*dataset_sigma + dataset_mu\n",
    "            sigma_sr = torch.exp(sigma_sr + torch.log(torch.Tensor((dataset_sigma,)).to(\"cuda\")))\n",
    "            \n",
    "            \n",
    "            x_sr = x_sr.permute(0,2,3,1).detach().cpu().numpy()\n",
    "            sigma_sr = sigma_sr.permute(0,2,3,1).detach().cpu().numpy()\n",
    "            if r==0:\n",
    "                x_sr_all = np.rot90(x_sr, k=-r, axes=(1,2))/4.0\n",
    "                sigma_sr_all = np.rot90(sigma_sr, k=-r, axes=(1,2))/4.0\n",
    "            else:\n",
    "                x_sr_all = x_sr_all + np.rot90(x_sr, k=-r, axes=(1,2))/4.0\n",
    "                sigma_sr_all = sigma_sr_all + np.rot90(sigma_sr, k=-r, axes=(1,2))/4.0\n",
    "               \n",
    "        return x_sr_all, sigma_sr_all\n",
    "    \n",
    "\n",
    "X_preds = []\n",
    "\n",
    "X_test = X_test[...,:Nimages]\n",
    "for index in tqdm(range(X_test.shape[0])):\n",
    "    x_pred, sigma_pred = predict_image(X_test[index:index+1], mu, sigma, to_numpy=True)\n",
    "    X_preds.append(x_pred)"
   ]
  },
  {
   "cell_type": "code",
   "execution_count": null,
   "metadata": {
    "ExecuteTime": {
     "end_time": "2020-10-01T16:35:18.141794Z",
     "start_time": "2020-10-01T16:31:48.188Z"
    }
   },
   "outputs": [],
   "source": [
    "def savePredictions(x, band, submission_dir):\n",
    "    \"\"\"RAMS save util\"\"\"\n",
    "    if band == 'NIR':\n",
    "        i = 1306\n",
    "    elif band=='RED':\n",
    "        i = 1160\n",
    "        \n",
    "    for index in tqdm(range(len(x))):\n",
    "        io.imsave(os.path.join(submission_dir, f'imgset{i}.png'), x[index][0,:,:,0].astype(np.uint16),\n",
    "                  check_contrast=False)\n",
    "        i+=1\n",
    "        \n",
    "savePredictions(X_preds, band, SUBMISSION_DIR)"
   ]
  },
  {
   "cell_type": "markdown",
   "metadata": {},
   "source": [
    "## 3.2 Submission zip creation"
   ]
  },
  {
   "cell_type": "code",
   "execution_count": null,
   "metadata": {
    "ExecuteTime": {
     "end_time": "2020-10-01T16:35:18.143709Z",
     "start_time": "2020-10-01T16:31:48.196Z"
    }
   },
   "outputs": [],
   "source": [
    "# zip creation\n",
    "#name_zip=os.path.join(SUBMISSION_DIR,'submission.zip')\n",
    "#zf = ZipFile(name_zip, mode='w')\n",
    "#with tqdm(total=290, desc=\"Zipping images\") as pbar:\n",
    "#    for i, img in enumerate(sorted(os.listdir(SUBMISSION_DIR))):\n",
    "#        zf.write(os.path.join(SUBMISSION_DIR, img), arcname=img)\n",
    "#        pbar.update(1)\n",
    "#zf.close()\n",
    "#print('Done!')"
   ]
  },
  {
   "cell_type": "code",
   "execution_count": null,
   "metadata": {},
   "outputs": [],
   "source": []
  }
 ],
 "metadata": {
  "kernelspec": {
   "display_name": "piunet-env",
   "language": "python",
   "name": "piunet-env"
  },
  "language_info": {
   "codemirror_mode": {
    "name": "ipython",
    "version": 3
   },
   "file_extension": ".py",
   "mimetype": "text/x-python",
   "name": "python",
   "nbconvert_exporter": "python",
   "pygments_lexer": "ipython3",
   "version": "3.7.6"
  },
  "toc": {
   "base_numbering": 1,
   "nav_menu": {},
   "number_sections": true,
   "sideBar": true,
   "skip_h1_title": false,
   "title_cell": "Table of Contents",
   "title_sidebar": "Contents",
   "toc_cell": false,
   "toc_position": {},
   "toc_section_display": true,
   "toc_window_display": false
  },
  "varInspector": {
   "cols": {
    "lenName": 16,
    "lenType": 16,
    "lenVar": 40
   },
   "kernels_config": {
    "python": {
     "delete_cmd_postfix": "",
     "delete_cmd_prefix": "del ",
     "library": "var_list.py",
     "varRefreshCmd": "print(var_dic_list())"
    },
    "r": {
     "delete_cmd_postfix": ") ",
     "delete_cmd_prefix": "rm(",
     "library": "var_list.r",
     "varRefreshCmd": "cat(var_dic_list()) "
    }
   },
   "types_to_exclude": [
    "module",
    "function",
    "builtin_function_or_method",
    "instance",
    "_Feature"
   ],
   "window_display": false
  }
 },
 "nbformat": 4,
 "nbformat_minor": 2
}
